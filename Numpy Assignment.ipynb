{
 "cells": [
  {
   "cell_type": "markdown",
   "metadata": {},
   "source": [
    "# Numpy Assignment:"
   ]
  },
  {
   "cell_type": "markdown",
   "metadata": {},
   "source": [
    "## 1. Eigenvalues and Eigenvectors of an array"
   ]
  },
  {
   "cell_type": "markdown",
   "metadata": {},
   "source": [
    "Eigen vector of a matrix A is a vector represented by a \n",
    "matrix X such that when X is multiplied with matrix A, \n",
    "then the direction of the resultant matrix remains same as vector X.\n",
    "\n",
    "AX = λX\n",
    "\n",
    "λ:eigen values\n",
    "X:eigen vector\n"
   ]
  },
  {
   "cell_type": "markdown",
   "metadata": {},
   "source": [
    "Syntax: numpy.linalg.eig()\n",
    "\n",
    "Application: we can use matrices to do transformations in space, which is used a lot in computer graphics."
   ]
  },
  {
   "cell_type": "code",
   "execution_count": 5,
   "metadata": {},
   "outputs": [
    {
     "name": "stdout",
     "output_type": "stream",
     "text": [
      "Input array:\n",
      " [[1 2]\n",
      " [2 3]]\n",
      "Eigen values of the given square array:\n",
      " [-0.23606798  4.23606798]\n",
      "eigenvectors of the given square array:\n",
      " [[-0.85065081 -0.52573111]\n",
      " [ 0.52573111 -0.85065081]]\n"
     ]
    }
   ],
   "source": [
    "import numpy as np \n",
    "  \n",
    "m = np.array([[1, 2], \n",
    "              [2, 3]]) \n",
    "  \n",
    "print(\"Input array:\\n\", \n",
    "      m) \n",
    "  \n",
    "w, v = np.linalg.eig(m) \n",
    "  \n",
    "print(\"Eigen values of the given square array:\\n\", \n",
    "      w) \n",
    "\n",
    "print(\"eigenvectors of the given square array:\\n\",\n",
    "      v)"
   ]
  },
  {
   "cell_type": "markdown",
   "metadata": {},
   "source": [
    "## 2.Digitize()"
   ]
  },
  {
   "cell_type": "markdown",
   "metadata": {},
   "source": [
    "With the help of np.digitize() method, we can get the indices of the bins to which the\n",
    "each value is belongs to an array by using np.digitize() method.\n",
    "Syntax : np.digitize(Array, Bin, Right)\n",
    "right : bool, optional\n",
    "\n",
    "Indicating whether the intervals include the right or the left bin edge. Default behavior is (right==False) indicating that the interval does not include the right edge. The left bin end is open in this case, i.e., bins[i-1] <= x < bins[i] is the default behavior for monotonically increasing bins.\n",
    "\n",
    "Application:\n",
    "let us say you have measurements of height and want to discretize it such that it is 0 or 1 depending on if the height is below or above a certain value of height."
   ]
  },
  {
   "cell_type": "code",
   "execution_count": 6,
   "metadata": {},
   "outputs": [
    {
     "name": "stdout",
     "output_type": "stream",
     "text": [
      "[[5 5 3 5]\n",
      " [1 4 5 5]]\n"
     ]
    }
   ],
   "source": [
    "# import numpy \n",
    "import numpy as np \n",
    "\n",
    "a = np.array([[10.2, 21.4, 3.6, 14.8], [1.0, 5.0, 10.0, 15.0]]) \n",
    "bins = np.array([1.0, 1.3, 2.5, 4.0, 10.0]) \n",
    "\n",
    "# using np.digitize() method \n",
    "gfg = np.digitize(a, bins) \n",
    "\n",
    "print(gfg) \n"
   ]
  },
  {
   "cell_type": "code",
   "execution_count": 11,
   "metadata": {},
   "outputs": [
    {
     "data": {
      "text/plain": [
       "array([1, 3, 3, 4, 5], dtype=int64)"
      ]
     },
     "execution_count": 11,
     "metadata": {},
     "output_type": "execute_result"
    }
   ],
   "source": [
    "x = np.array([1.2, 10.0, 12.4, 15.5, 20.0])\n",
    "bins1 = np.array([0, 5, 10, 15, 20])\n",
    "np.digitize(x,bins1,right=True)\n",
    "np.digitize(x,bins1,right=False)\n"
   ]
  },
  {
   "cell_type": "markdown",
   "metadata": {},
   "source": [
    "## 3.Repeat()"
   ]
  },
  {
   "cell_type": "markdown",
   "metadata": {},
   "source": [
    "The NumPy repeat function essentially repeats the numbers inside of an array. \n",
    "It repeats the individual elements of an array.\n",
    "\n",
    "\n",
    "Syntax:numpy.repeat(arr, repetitions, axis = None)\n",
    "    \n",
    "Application"
   ]
  },
  {
   "cell_type": "code",
   "execution_count": 16,
   "metadata": {},
   "outputs": [
    {
     "name": "stdout",
     "output_type": "stream",
     "text": [
      "arr : \n",
      " [0 1 2 3 4]\n",
      "\n",
      "Repeating arr 2 times : \n",
      " [0 0 1 1 2 2 3 3 4 4]\n",
      "Shape :  (10,)\n",
      "\n",
      "Repeating arr 3 times : \n",
      " [0 0 0 1 1 1 2 2 2 3 3 3 4 4 4]\n",
      "Shape :  (15,)\n"
     ]
    }
   ],
   "source": [
    "arr = np.arange(5) \n",
    "print(\"arr : \\n\", arr) \n",
    "\n",
    "repetitions = 2\n",
    "a = np.repeat(arr, repetitions,axis=0) \n",
    "print(\"\\nRepeating arr 2 times : \\n\", a) \n",
    "print(\"Shape : \", a.shape) \n",
    "\n",
    "repetitions = 3\n",
    "a = np.repeat(arr, repetitions,axis=0) \n",
    "print(\"\\nRepeating arr 3 times : \\n\", a) \n",
    "print(\"Shape : \", a.shape) \n"
   ]
  },
  {
   "cell_type": "markdown",
   "metadata": {},
   "source": [
    "## 4.squeeze()"
   ]
  },
  {
   "cell_type": "markdown",
   "metadata": {},
   "source": [
    "numpy.squeeze() function is used when we want to remove single-dimensional entries from the shape of an array.\n",
    "\n",
    "Syntax : numpy.squeeze(arr, axis=None )"
   ]
  },
  {
   "cell_type": "code",
   "execution_count": 17,
   "metadata": {},
   "outputs": [
    {
     "name": "stdout",
     "output_type": "stream",
     "text": [
      "Input array :  [[[0 1 2]\n",
      "  [3 4 5]\n",
      "  [6 7 8]]]\n",
      "output array :  [[0 1 2]\n",
      " [3 4 5]\n",
      " [6 7 8]]\n",
      "The shapes of Input and Output array : \n",
      "(1, 3, 3) (3, 3)\n"
     ]
    }
   ],
   "source": [
    "in_arr = np.arange(9).reshape(1, 3, 3)  \n",
    "  \n",
    "print (\"Input array : \", in_arr)   \n",
    "out_arr = np.squeeze(in_arr, axis = 0)  \n",
    "  \n",
    "print (\"output array : \", out_arr)   \n",
    "print(\"The shapes of Input and Output array : \")  \n",
    "  \n",
    "print(in_arr.shape, out_arr.shape)"
   ]
  },
  {
   "cell_type": "code",
   "execution_count": 18,
   "metadata": {},
   "outputs": [
    {
     "name": "stdout",
     "output_type": "stream",
     "text": [
      "Input array :  [[[0 1]\n",
      "  [2 3]\n",
      "  [4 5]\n",
      "  [6 7]]]\n",
      "output array :  [[0 1]\n",
      " [2 3]\n",
      " [4 5]\n",
      " [6 7]]\n"
     ]
    }
   ],
   "source": [
    "in_array = np.arange(8).reshape(1, 4, 2) \n",
    "print (\"Input array : \", in_array)   \n",
    "out_array = np.squeeze(in_array, axis = 0) \n",
    "print (\"output array : \", out_array)"
   ]
  },
  {
   "cell_type": "markdown",
   "metadata": {},
   "source": [
    "## 5.linspace()"
   ]
  },
  {
   "cell_type": "markdown",
   "metadata": {},
   "source": [
    "The numpy.linspace() function returns number spaces evenly w.r.t interval. \n",
    "Similar to numpy.arange() function but instead of step it uses sample number.\n",
    "\n",
    "Syntax: numpy.linspace(start, stop, num=50, endpoint=True, retstep=False, dtype=None)"
   ]
  },
  {
   "cell_type": "code",
   "execution_count": 20,
   "metadata": {},
   "outputs": [
    {
     "name": "stdout",
     "output_type": "stream",
     "text": [
      "B\n",
      " (array([2.  , 2.25, 2.5 , 2.75, 3.  ]), 0.25) \n",
      "\n",
      "A\n",
      " [0.         0.22039774 0.42995636 0.6183698  0.77637192 0.8961922\n",
      " 0.9719379  0.99988386 0.9786557  0.90929743]\n"
     ]
    }
   ],
   "source": [
    "print(\"B\\n\", np.linspace(2.0, 3.0, num=5, retstep=True), \"\\n\") \n",
    "x = np.linspace(0, 2, 10) \n",
    "print(\"A\\n\", np.sin(x))"
   ]
  },
  {
   "cell_type": "code",
   "execution_count": 22,
   "metadata": {},
   "outputs": [
    {
     "data": {
      "text/plain": [
       "(-0.2, 1.8)"
      ]
     },
     "execution_count": 22,
     "metadata": {},
     "output_type": "execute_result"
    },
    {
     "data": {
      "image/png": "[encoded data removed]",
      "text/plain": [
       "<Figure size 432x288 with 1 Axes>"
      ]
     },
     "metadata": {
      "needs_background": "light"
     },
     "output_type": "display_data"
    }
   ],
   "source": [
    "# Graphical Represenation of numpy.linspace() \n",
    "import matplotlib.pyplot as p\n",
    "\n",
    "# Start = 0 \n",
    "# End = 2 \n",
    "# Samples to generate = 10 \n",
    "x1 = np.linspace(0, 2, 10, endpoint = False) \n",
    "y1 = np.ones(10) \n",
    "\n",
    "p.plot(x1, y1, 'o') \n",
    "p.xlim(-0.2, 1.8) \n"
   ]
  },
  {
   "cell_type": "markdown",
   "metadata": {},
   "source": [
    "## 6.Clip()"
   ]
  },
  {
   "cell_type": "markdown",
   "metadata": {},
   "source": [
    "Clip (limit) the values in an array.\n",
    "\n",
    "Given an interval, values outside the interval are clipped to the interval edges. \n",
    "For example, if an interval of [0, 1] is specified, \n",
    "values smaller than 0 become 0, and values larger than 1 become 1.\n",
    "\n",
    "\n",
    "Equivalent to but faster than np.minimum(a_max, np.maximum(a, a_min)).\n",
    "\n",
    "No check is performed to ensure a_min < a_max.\n",
    "\n",
    "Syntax:numpy.clip(a, a_min, a_max, out=None)"
   ]
  },
  {
   "cell_type": "code",
   "execution_count": 28,
   "metadata": {},
   "outputs": [
    {
     "name": "stdout",
     "output_type": "stream",
     "text": [
      "[[[0 1 2 3]\n",
      "  [4 5 6 7]]]\n",
      "[[[2 2 2 3]\n",
      "  [4 5 6 6]]]\n"
     ]
    }
   ],
   "source": [
    "arr=np.arange(8).reshape(1,2,4)\n",
    "print(arr)\n",
    "arr1=np.clip(arr,2,6)\n",
    "print(arr1)"
   ]
  },
  {
   "cell_type": "code",
   "execution_count": 32,
   "metadata": {},
   "outputs": [
    {
     "name": "stdout",
     "output_type": "stream",
     "text": [
      "Input array :  [0 1 2 3 4 5 6 7 8 9]\n",
      "Output array :  [3 4 2 3 4 5 6 7 8 8]\n"
     ]
    }
   ],
   "source": [
    "in_array = np.arange(10)\n",
    "print (\"Input array : \", in_array) \n",
    "  \n",
    "out_array = np.clip(in_array, a_min =[3, 4, 1, 1, 1, 4, 4, 4, 4, 4], \n",
    "                                                         a_max = 8) \n",
    "print (\"Output array : \", out_array) "
   ]
  },
  {
   "cell_type": "markdown",
   "metadata": {},
   "source": [
    "## 7.extract()"
   ]
  },
  {
   "cell_type": "markdown",
   "metadata": {},
   "source": [
    "The numpy.extract() function returns elements of input_array if they satisfy some specified condition.\n",
    "\n",
    "Syntax: numpy.extract(condition, array)"
   ]
  },
  {
   "cell_type": "code",
   "execution_count": 34,
   "metadata": {},
   "outputs": [
    {
     "name": "stdout",
     "output_type": "stream",
     "text": [
      "[[ 0  1  2  3]\n",
      " [ 4  5  6  7]\n",
      " [ 8  9 10 11]]\n",
      "[[ True False False  True]\n",
      " [False False  True False]\n",
      " [False  True False False]]\n",
      "[0 3 6 9]\n"
     ]
    }
   ],
   "source": [
    "arr = np.arange(12).reshape((3, 4))\n",
    "print(arr)\n",
    "condition = np.mod(arr, 3)==0\n",
    "print(condition)\n",
    "ext=np.extract(condition, arr)\n",
    "print(ext)"
   ]
  },
  {
   "cell_type": "markdown",
   "metadata": {},
   "source": [
    "## 8.argpartition()"
   ]
  },
  {
   "cell_type": "markdown",
   "metadata": {},
   "source": [
    "numpy.argpartition() function is used to create a indirect partitioned copy of input array with its elements rearranged in such a way that the value of the element in k-th position is in the position it would be in a sorted array. All elements smaller than the k-th element are moved before this element and all equal or greater are moved behind it. The ordering of the elements in the two partitions is undefined.It returns an array of indices of the same shape as arr, i.e arr[index_array] yields a partition of arr.\n",
    "\n",
    "Syntax:numpy.argpartition(arr, kth, axis=-1, kind=’introselect’, order=None)"
   ]
  },
  {
   "cell_type": "code",
   "execution_count": 38,
   "metadata": {},
   "outputs": [
    {
     "name": "stdout",
     "output_type": "stream",
     "text": [
      "[2 1 3 4]\n",
      "[1 2 3 4]\n"
     ]
    }
   ],
   "source": [
    "x = np.array([3, 4, 2, 1])\n",
    "p=x[np.argpartition(x,3)]\n",
    "print(p)\n",
    "p1=x[np.argpartition(x, (1, 3))]\n",
    "print(p1)"
   ]
  },
  {
   "cell_type": "code",
   "execution_count": 40,
   "metadata": {},
   "outputs": [
    {
     "data": {
      "text/plain": [
       "array([[2, 0, 1],\n",
       "       [0, 2, 1]], dtype=int64)"
      ]
     },
     "execution_count": 40,
     "metadata": {},
     "output_type": "execute_result"
    }
   ],
   "source": [
    "x = np.array([[3, 4, 2], [1, 3, 1]])\n",
    "index_array = np.argpartition(x, kth=1, axis=-1)\n",
    "index_array"
   ]
  },
  {
   "cell_type": "markdown",
   "metadata": {},
   "source": [
    "## 9.setdiff1d()"
   ]
  },
  {
   "cell_type": "markdown",
   "metadata": {},
   "source": [
    "numpy.setdiff1d() function find the set difference of two arrays and \n",
    "return the unique values in arr1 that are not in arr2.\n",
    "\n",
    "\n",
    "Syntax : numpy.setdiff1d(arr1, arr2, assume_unique = False)"
   ]
  },
  {
   "cell_type": "code",
   "execution_count": 42,
   "metadata": {},
   "outputs": [
    {
     "name": "stdout",
     "output_type": "stream",
     "text": [
      "[2 4 6 8]\n"
     ]
    }
   ],
   "source": [
    "arr1 = [1, 2, 3, 4, 5, 6, 7, 8, 9] \n",
    "arr2 = [1, 3, 5, 7, 9, 11, 13, 15] \n",
    "\n",
    "gfg = np.setdiff1d(arr1, arr2) \n",
    "\n",
    "print (gfg) \n"
   ]
  },
  {
   "cell_type": "markdown",
   "metadata": {},
   "source": [
    "## 10. itemsize"
   ]
  },
  {
   "cell_type": "markdown",
   "metadata": {},
   "source": [
    "itemsize returns the size (in bytes) of each element of a NumPy array.\n",
    "\n",
    "Syntax:numpy.ndarray.itemsize(arr)"
   ]
  },
  {
   "cell_type": "code",
   "execution_count": 44,
   "metadata": {},
   "outputs": [
    {
     "data": {
      "text/plain": [
       "8"
      ]
     },
     "execution_count": 44,
     "metadata": {},
     "output_type": "execute_result"
    }
   ],
   "source": [
    "x = np.array([1,2,3], dtype=np.float64)\n",
    "x.itemsize"
   ]
  },
  {
   "cell_type": "code",
   "execution_count": 47,
   "metadata": {},
   "outputs": [
    {
     "name": "stdout",
     "output_type": "stream",
     "text": [
      "16\n"
     ]
    }
   ],
   "source": [
    "arr = np.array([1, 2, 3, 4],  dtype = np.complex128) \n",
    "  \n",
    "gfg = arr.itemsize \n",
    "  \n",
    "print (gfg)"
   ]
  },
  {
   "cell_type": "markdown",
   "metadata": {},
   "source": [
    "## 11. hstack()"
   ]
  },
  {
   "cell_type": "markdown",
   "metadata": {},
   "source": [
    "numpy.hstack() function is used to stack the sequence of input arrays \n",
    "horizontally (i.e. column wise) to make a single array.\n",
    "\n",
    "\n",
    "Syntax : numpy.hstack(tup)\n"
   ]
  },
  {
   "cell_type": "code",
   "execution_count": 48,
   "metadata": {},
   "outputs": [
    {
     "name": "stdout",
     "output_type": "stream",
     "text": [
      "1st Input array : \n",
      " [1 2 3]\n",
      "2nd Input array : \n",
      " [4 5 6]\n",
      "Output horizontally stacked array:\n",
      "  [1 2 3 4 5 6]\n"
     ]
    }
   ],
   "source": [
    "in_arr1 = np.array([ 1, 2, 3] ) \n",
    "print (\"1st Input array : \\n\", in_arr1) \n",
    "\n",
    "in_arr2 = np.array([ 4, 5, 6] ) \n",
    "print (\"2nd Input array : \\n\", in_arr2) \n",
    "\n",
    "# Stacking the two arrays horizontally \n",
    "out_arr = np.hstack((in_arr1, in_arr2)) \n",
    "print (\"Output horizontally stacked array:\\n \", out_arr) \n"
   ]
  },
  {
   "cell_type": "code",
   "execution_count": 49,
   "metadata": {},
   "outputs": [
    {
     "name": "stdout",
     "output_type": "stream",
     "text": [
      "1st Input array : \n",
      " [[ 1  2  3]\n",
      " [-1 -2 -3]]\n",
      "2nd Input array : \n",
      " [[ 4  5  6]\n",
      " [-4 -5 -6]]\n",
      "Output stacked array :\n",
      "  [[ 1  2  3  4  5  6]\n",
      " [-1 -2 -3 -4 -5 -6]]\n"
     ]
    }
   ],
   "source": [
    "in_arr1 = np.array([[ 1, 2, 3], [ -1, -2, -3]] ) \n",
    "print (\"1st Input array : \\n\", in_arr1) \n",
    "\n",
    "in_arr2 = np.array([[ 4, 5, 6], [ -4, -5, -6]] ) \n",
    "print (\"2nd Input array : \\n\", in_arr2) \n",
    "\n",
    "# Stacking the two arrays horizontally \n",
    "out_arr = np.hstack((in_arr1, in_arr2)) \n",
    "print (\"Output stacked array :\\n \", out_arr) \n"
   ]
  },
  {
   "cell_type": "markdown",
   "metadata": {},
   "source": [
    "## 12.vstack()"
   ]
  },
  {
   "cell_type": "markdown",
   "metadata": {},
   "source": [
    "numpy.vstack() function is used to stack the sequence of input arrays vertically to make a single array.\n",
    "\n",
    "\n",
    "Syntax : numpy.vstack(tup)"
   ]
  },
  {
   "cell_type": "code",
   "execution_count": 51,
   "metadata": {},
   "outputs": [
    {
     "name": "stdout",
     "output_type": "stream",
     "text": [
      "1st Input array : \n",
      " [[ 1  2  3]\n",
      " [-1 -2 -3]]\n",
      "2nd Input array : \n",
      " [[ 4  5  6]\n",
      " [-4 -5 -6]]\n",
      "Output stacked array :\n",
      "  [[ 1  2  3]\n",
      " [-1 -2 -3]\n",
      " [ 4  5  6]\n",
      " [-4 -5 -6]]\n"
     ]
    }
   ],
   "source": [
    "in_arr1 = np.array([[ 1, 2, 3], [ -1, -2, -3]] ) \n",
    "print (\"1st Input array : \\n\", in_arr1)  \n",
    "  \n",
    "in_arr2 = np.array([[ 4, 5, 6], [ -4, -5, -6]] ) \n",
    "print (\"2nd Input array : \\n\", in_arr2)  \n",
    "  \n",
    "# Stacking the two arrays vertically \n",
    "out_arr = np.vstack((in_arr1, in_arr2)) \n",
    "print (\"Output stacked array :\\n \", out_arr) "
   ]
  },
  {
   "cell_type": "markdown",
   "metadata": {},
   "source": [
    "## 13. hsplit()"
   ]
  },
  {
   "cell_type": "markdown",
   "metadata": {},
   "source": [
    "Split an array into multiple sub-arrays horizontally (column-wise).\n",
    "\n",
    "Please refer to the split documentation. hsplit is equivalent to split with axis=1, the array is \n",
    "always split along the second axis regardless of the array dimension.\n",
    "\n",
    "\n",
    "Syntax : numpy.hsplit(arr, indices_or_sections)"
   ]
  },
  {
   "cell_type": "code",
   "execution_count": 52,
   "metadata": {},
   "outputs": [
    {
     "name": "stdout",
     "output_type": "stream",
     "text": [
      "[array([[ 0.,  1.],\n",
      "       [ 4.,  5.],\n",
      "       [ 8.,  9.],\n",
      "       [12., 13.]]), array([[ 2.,  3.],\n",
      "       [ 6.,  7.],\n",
      "       [10., 11.],\n",
      "       [14., 15.]])]\n"
     ]
    }
   ],
   "source": [
    "arr = np.arange(16.0).reshape(4, 4) \n",
    "  \n",
    "gfg = np.hsplit(arr, 2) \n",
    "  \n",
    "print (gfg)"
   ]
  },
  {
   "cell_type": "code",
   "execution_count": 53,
   "metadata": {},
   "outputs": [
    {
     "name": "stdout",
     "output_type": "stream",
     "text": [
      "[[[0. 1.]\n",
      "  [2. 3.]]\n",
      "\n",
      " [[4. 5.]\n",
      "  [6. 7.]]]\n",
      "[array([[[0., 1.]],\n",
      "\n",
      "       [[4., 5.]]]), array([[[2., 3.]],\n",
      "\n",
      "       [[6., 7.]]])]\n"
     ]
    }
   ],
   "source": [
    "x = np.arange(8.0).reshape(2, 2, 2)\n",
    "print(x)\n",
    "y=np.hsplit(x, 2)\n",
    "print(y)"
   ]
  },
  {
   "cell_type": "markdown",
   "metadata": {},
   "source": [
    "## 14. Vsplit()"
   ]
  },
  {
   "cell_type": "markdown",
   "metadata": {},
   "source": [
    "numpy.vsplit() function split an array into multiple sub-arrays vertically (row-wise). \n",
    "vsplit is equivalent to split with axis=0 (default), the array is \n",
    "always split along the first axis regardless of the array dimension.\n",
    "\n",
    "Syntax : numpy.vsplit(arr, indices_or_sections)"
   ]
  },
  {
   "cell_type": "code",
   "execution_count": 60,
   "metadata": {
    "scrolled": true
   },
   "outputs": [
    {
     "name": "stdout",
     "output_type": "stream",
     "text": [
      "[[ 0.  1.  2.  3.]\n",
      " [ 4.  5.  6.  7.]\n",
      " [ 8.  9. 10. 11.]\n",
      " [12. 13. 14. 15.]]\n",
      "[array([[0., 1., 2., 3.]]), array([[4., 5., 6., 7.]]), array([[ 8.,  9., 10., 11.]]), array([[12., 13., 14., 15.]])]\n",
      "[array([[0., 1., 2., 3.],\n",
      "       [4., 5., 6., 7.]]), array([[ 8.,  9., 10., 11.],\n",
      "       [12., 13., 14., 15.]]), array([], shape=(0, 4), dtype=float64)]\n"
     ]
    }
   ],
   "source": [
    "x = np.arange(16.0).reshape(4, 4)\n",
    "print(x)\n",
    "y=np.vsplit(x, 4)\n",
    "print(y)\n",
    "z=np.vsplit(x, np.array([2, 5]))\n",
    "print(z)"
   ]
  },
  {
   "cell_type": "markdown",
   "metadata": {},
   "source": [
    "## 15. View vs Shallow Copy"
   ]
  },
  {
   "cell_type": "markdown",
   "metadata": {},
   "source": [
    "View: This is also known as Shallow Copy. The view is just a view of the original array and view does not own the data. When we make changes to the view it affects the original array, and when changes are made to the original array it affects the view.\n",
    "\n",
    "syntax: view()\n",
    "\n",
    "shallow copy: copy.copy(arr)"
   ]
  },
  {
   "cell_type": "code",
   "execution_count": 63,
   "metadata": {},
   "outputs": [
    {
     "name": "stdout",
     "output_type": "stream",
     "text": [
      "[ 2  4  6  8 10]\n",
      "id of arr 2050419914112\n",
      "id of v 2050420113696\n",
      "original array-  [12  4  6  8 10]\n",
      "view-  [12  4  6  8 10]\n"
     ]
    }
   ],
   "source": [
    "#view\n",
    "arr = np.array([2, 4, 6, 8, 10]) \n",
    "v = arr.view() \n",
    "print(v)\n",
    "print(\"id of arr\", id(arr)) \n",
    "print(\"id of v\", id(v)) \n",
    "arr[0] = 12\n",
    "print(\"original array- \", arr) \n",
    "print(\"view- \", v) "
   ]
  },
  {
   "cell_type": "code",
   "execution_count": 67,
   "metadata": {},
   "outputs": [
    {
     "name": "stdout",
     "output_type": "stream",
     "text": [
      "[[90, 85, 82], [72, 88, 90]]\n",
      "[[[80], 85, 82], [72, 88, 90]]\n",
      "[[[80], 85, 82], [72, 88, 90]]\n"
     ]
    }
   ],
   "source": [
    "# Program 2 - Shallow Copy\n",
    "import copy\n",
    "\n",
    "result_A = [[90, 85, 82], [72, 88, 90]]\n",
    "result_B = copy.copy(result_A)\n",
    "print(result_B)\n",
    "result_A[0][0]=[80]\n",
    "print(result_A)\n",
    "print(result_B)"
   ]
  },
  {
   "cell_type": "markdown",
   "metadata": {},
   "source": [
    "## 16.Deep Copy"
   ]
  },
  {
   "cell_type": "markdown",
   "metadata": {},
   "source": [
    "A deep copy makes a new and separate copy of an entire object or list with its own unique memory address. What this means is that any changes you make in the new copy of the object/list won't reflect in the original one.\n",
    "\n",
    "Syntax:copy.deepcopy(arr)"
   ]
  },
  {
   "cell_type": "code",
   "execution_count": 68,
   "metadata": {},
   "outputs": [
    {
     "name": "stdout",
     "output_type": "stream",
     "text": [
      "[[90, 85, 82], [72, 88, 90]]\n",
      "[[90, 85, 82], [72, 88, 90]]\n"
     ]
    }
   ],
   "source": [
    "# Program 1 - Deep Copy\n",
    "import copy\n",
    "\n",
    "result_A = [[90, 85, 82], [72, 88, 90]] # Student A grades\n",
    "result_B = copy.deepcopy(result_A) # Student B grades (copied from A)\n",
    "print(result_B)\n",
    "result_A[0][0]=50\n",
    "\n",
    "print(result_B)"
   ]
  },
  {
   "cell_type": "markdown",
   "metadata": {},
   "source": [
    "## 17.Copy()"
   ]
  },
  {
   "cell_type": "markdown",
   "metadata": {},
   "source": [
    "The copy is completely a new array and copy owns the data. When we make changes to the copy it does not affect the original array, and when changes are made to the original array it does not affect the copy.\n",
    "\n",
    "Syntax:numpy.copy(a, order='K', subok=False)"
   ]
  },
  {
   "cell_type": "code",
   "execution_count": 69,
   "metadata": {},
   "outputs": [
    {
     "name": "stdout",
     "output_type": "stream",
     "text": [
      "x is:\n",
      " [[0 1]\n",
      " [2 3]]\n",
      "\n",
      " Now x is : \n",
      " [[1 1]\n",
      " [1 1]]\n",
      "\n",
      " y is: \n",
      " [[0 1]\n",
      " [2 3]]\n"
     ]
    }
   ],
   "source": [
    "x = np.array([[0, 1, ], [2, 3]]) \n",
    "print(\"x is:\\n\", x) \n",
    "  \n",
    "# copying x to y \n",
    "y = x.copy() \n",
    "  \n",
    "# filling x with 1's \n",
    "x.fill(1) \n",
    "print(\"\\n Now x is : \\n\", x) \n",
    "  \n",
    "print(\"\\n y is: \\n\", y) "
   ]
  },
  {
   "cell_type": "markdown",
   "metadata": {},
   "source": [
    "## 18. meshgrid()"
   ]
  },
  {
   "cell_type": "markdown",
   "metadata": {},
   "source": [
    "The numpy.meshgrid function is used to create a rectangular grid out of two given one-dimensional arrays representing the Cartesian indexing or Matrix indexing.\n",
    "\n",
    "Syntax:numpy.meshgrid(*xi, copy=True, sparse=False, indexing='xy')"
   ]
  },
  {
   "cell_type": "code",
   "execution_count": 72,
   "metadata": {},
   "outputs": [
    {
     "name": "stdout",
     "output_type": "stream",
     "text": [
      "[0.  0.5 1. ]\n",
      "[0. 1.]\n",
      "[[0.  0.5 1. ]\n",
      " [0.  0.5 1. ]]\n",
      "[[0. 0. 0.]\n",
      " [1. 1. 1.]]\n",
      "[[0.  0.5 1. ]]\n",
      "[[0.]\n",
      " [1.]]\n"
     ]
    }
   ],
   "source": [
    "nx, ny = (3, 2)\n",
    "x = np.linspace(0, 1, nx)\n",
    "y = np.linspace(0, 1, ny)\n",
    "print(x)\n",
    "print(y)\n",
    "xv, yv = np.meshgrid(x, y)\n",
    "print(xv)\n",
    "print(yv)\n",
    "xv1, yv1 = np.meshgrid(x, y, sparse=True)\n",
    "print(xv1)\n",
    "print(yv1)"
   ]
  },
  {
   "cell_type": "code",
   "execution_count": 73,
   "metadata": {},
   "outputs": [
    {
     "data": {
      "image/png": "[encoded data removed]",
      "text/plain": [
       "<Figure size 432x288 with 1 Axes>"
      ]
     },
     "metadata": {
      "needs_background": "light"
     },
     "output_type": "display_data"
    }
   ],
   "source": [
    "import matplotlib.pyplot as plt\n",
    "x = np.arange(-5, 5, 0.1)\n",
    "y = np.arange(-5, 5, 0.1)\n",
    "xx, yy = np.meshgrid(x, y, sparse=True)\n",
    "z = np.sin(xx**2 + yy**2) / (xx**2 + yy**2)\n",
    "h = plt.contourf(x,y,z)\n",
    "plt.show()"
   ]
  },
  {
   "cell_type": "markdown",
   "metadata": {},
   "source": [
    "## 19. swapaxes()"
   ]
  },
  {
   "cell_type": "markdown",
   "metadata": {},
   "source": [
    "Interchange two axes of an array.\n",
    "\n",
    "Syntax:numpy.swapaxes(a, axis1, axis2)"
   ]
  },
  {
   "cell_type": "code",
   "execution_count": 74,
   "metadata": {},
   "outputs": [
    {
     "name": "stdout",
     "output_type": "stream",
     "text": [
      "[[1]\n",
      " [2]\n",
      " [3]]\n"
     ]
    }
   ],
   "source": [
    "x = np.array([[1,2,3]])\n",
    "print(np.swapaxes(x,0,1))"
   ]
  },
  {
   "cell_type": "code",
   "execution_count": 75,
   "metadata": {},
   "outputs": [
    {
     "name": "stdout",
     "output_type": "stream",
     "text": [
      "[[[0 4]\n",
      "  [2 6]]\n",
      "\n",
      " [[1 5]\n",
      "  [3 7]]]\n"
     ]
    }
   ],
   "source": [
    "x = np.array([[[0,1],[2,3]],[[4,5],[6,7]]])\n",
    "print(np.swapaxes(x,0,2))"
   ]
  },
  {
   "cell_type": "code",
   "execution_count": 80,
   "metadata": {},
   "outputs": [
    {
     "name": "stdout",
     "output_type": "stream",
     "text": [
      "[[[ 0  1  2]\n",
      "  [ 3  4  5]\n",
      "  [ 6  7  8]]\n",
      "\n",
      " [[ 9 10 11]\n",
      "  [12 13 14]\n",
      "  [15 16 17]]]\n",
      "[[[ 0  3  6]\n",
      "  [ 1  4  7]\n",
      "  [ 2  5  8]]\n",
      "\n",
      " [[ 9 12 15]\n",
      "  [10 13 16]\n",
      "  [11 14 17]]]\n"
     ]
    }
   ],
   "source": [
    "a = np.arange(18).reshape(2,3,3)\n",
    "print(a)\n",
    "print(np.swapaxes(a,1,2))"
   ]
  },
  {
   "cell_type": "markdown",
   "metadata": {},
   "source": [
    "## 20. column_stack()"
   ]
  },
  {
   "cell_type": "markdown",
   "metadata": {},
   "source": [
    "Stack 1-D arrays as columns into a 2-D array.\n",
    "\n",
    "Take a sequence of 1-D arrays and stack them as columns to make a single 2-D array. 2-D arrays are stacked as-is, just like with hstack. 1-D arrays are turned into 2-D columns first.\n",
    "\n",
    "Syntax:numpy.column_stack(tup)"
   ]
  },
  {
   "cell_type": "code",
   "execution_count": 81,
   "metadata": {},
   "outputs": [
    {
     "data": {
      "text/plain": [
       "array([[1, 2],\n",
       "       [2, 3],\n",
       "       [3, 4]])"
      ]
     },
     "execution_count": 81,
     "metadata": {},
     "output_type": "execute_result"
    }
   ],
   "source": [
    "a = np.array((1,2,3))\n",
    "b = np.array((2,3,4))\n",
    "np.column_stack((a,b))"
   ]
  },
  {
   "cell_type": "code",
   "execution_count": null,
   "metadata": {},
   "outputs": [],
   "source": []
  }
 ],
 "metadata": {
  "kernelspec": {
   "display_name": "Python 3",
   "language": "python",
   "name": "python3"
  },
  "language_info": {
   "codemirror_mode": {
    "name": "ipython",
    "version": 3
   },
   "file_extension": ".py",
   "mimetype": "text/x-python",
   "name": "python",
   "nbconvert_exporter": "python",
   "pygments_lexer": "ipython3",
   "version": "3.7.6"
  }
 },
 "nbformat": 4,
 "nbformat_minor": 4
}
